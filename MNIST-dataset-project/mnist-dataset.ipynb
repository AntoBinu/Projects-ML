{
 "cells": [
  {
   "cell_type": "code",
   "execution_count": 1,
   "metadata": {
    "_cell_guid": "b1076dfc-b9ad-4769-8c92-a6c4dae69d19",
    "_uuid": "8f2839f25d086af736a60e9eeb907d3b93b6e0e5",
    "execution": {
     "iopub.execute_input": "2020-08-13T00:20:20.393099Z",
     "iopub.status.busy": "2020-08-13T00:20:20.392191Z",
     "iopub.status.idle": "2020-08-13T00:20:20.397537Z",
     "shell.execute_reply": "2020-08-13T00:20:20.396823Z"
    },
    "papermill": {
     "duration": 0.0314,
     "end_time": "2020-08-13T00:20:20.397695",
     "exception": false,
     "start_time": "2020-08-13T00:20:20.366295",
     "status": "completed"
    },
    "tags": []
   },
   "outputs": [
    {
     "name": "stdout",
     "output_type": "stream",
     "text": [
      "/kaggle/input/digit-recognizer/train.csv\n",
      "/kaggle/input/digit-recognizer/test.csv\n",
      "/kaggle/input/digit-recognizer/sample_submission.csv\n"
     ]
    }
   ],
   "source": [
    "# This Python 3 environment comes with many helpful analytics libraries installed\n",
    "# It is defined by the kaggle/python Docker image: https://github.com/kaggle/docker-python\n",
    "# For example, here's several helpful packages to load\n",
    "\n",
    "import numpy as np # linear algebra\n",
    "import pandas as pd # data processing, CSV file I/O (e.g. pd.read_csv)\n",
    "\n",
    "# Input data files are available in the read-only \"../input/\" directory\n",
    "# For example, running this (by clicking run or pressing Shift+Enter) will list all files under the input directory\n",
    "\n",
    "import os\n",
    "for dirname, _, filenames in os.walk('/kaggle/input'):\n",
    "    for filename in filenames:\n",
    "        print(os.path.join(dirname, filename))\n",
    "\n",
    "# You can write up to 5GB to the current directory (/kaggle/working/) that gets preserved as output when you create a version using \"Save & Run All\" \n",
    "# You can also write temporary files to /kaggle/temp/, but they won't be saved outside of the current session"
   ]
  },
  {
   "cell_type": "code",
   "execution_count": 2,
   "metadata": {
    "_cell_guid": "79c7e3d0-c299-4dcb-8224-4455121ee9b0",
    "_uuid": "d629ff2d2480ee46fbb7e2d37f6b5fab8052498a",
    "execution": {
     "iopub.execute_input": "2020-08-13T00:20:20.444026Z",
     "iopub.status.busy": "2020-08-13T00:20:20.443155Z",
     "iopub.status.idle": "2020-08-13T00:20:21.551341Z",
     "shell.execute_reply": "2020-08-13T00:20:21.550604Z"
    },
    "papermill": {
     "duration": 1.135955,
     "end_time": "2020-08-13T00:20:21.551486",
     "exception": false,
     "start_time": "2020-08-13T00:20:20.415531",
     "status": "completed"
    },
    "tags": []
   },
   "outputs": [],
   "source": [
    "import matplotlib.pyplot as plt\n",
    "%matplotlib inline\n",
    "import matplotlib.image as mpimg\n",
    "import seaborn as sns"
   ]
  },
  {
   "cell_type": "code",
   "execution_count": 3,
   "metadata": {
    "execution": {
     "iopub.execute_input": "2020-08-13T00:20:21.596148Z",
     "iopub.status.busy": "2020-08-13T00:20:21.595255Z",
     "iopub.status.idle": "2020-08-13T00:20:28.242625Z",
     "shell.execute_reply": "2020-08-13T00:20:28.243314Z"
    },
    "papermill": {
     "duration": 6.674858,
     "end_time": "2020-08-13T00:20:28.243506",
     "exception": false,
     "start_time": "2020-08-13T00:20:21.568648",
     "status": "completed"
    },
    "tags": []
   },
   "outputs": [],
   "source": [
    "from sklearn.model_selection import train_test_split\n",
    "from sklearn.metrics import confusion_matrix\n",
    "import itertools\n",
    "from keras.utils.np_utils import to_categorical\n",
    "from keras.models import Sequential\n",
    "from keras.layers import Dense, Dropout ,Flatten ,Conv2D,MaxPool2D,Activation\n",
    "from keras.optimizers import RMSprop\n",
    "from keras.preprocessing.image import ImageDataGenerator\n",
    "from keras.callbacks import ReduceLROnPlateau\n",
    "from keras.layers.normalization import BatchNormalization\n",
    "sns.set(style='white', context='notebook',palette='deep')"
   ]
  },
  {
   "cell_type": "code",
   "execution_count": 4,
   "metadata": {
    "execution": {
     "iopub.execute_input": "2020-08-13T00:20:28.290342Z",
     "iopub.status.busy": "2020-08-13T00:20:28.289533Z",
     "iopub.status.idle": "2020-08-13T00:20:35.937254Z",
     "shell.execute_reply": "2020-08-13T00:20:35.936424Z"
    },
    "papermill": {
     "duration": 7.676387,
     "end_time": "2020-08-13T00:20:35.937390",
     "exception": false,
     "start_time": "2020-08-13T00:20:28.261003",
     "status": "completed"
    },
    "tags": []
   },
   "outputs": [
    {
     "data": {
      "image/png": "[encoded data removed]",
      "text/plain": [
       "<Figure size 432x288 with 1 Axes>"
      ]
     },
     "metadata": {},
     "output_type": "display_data"
    }
   ],
   "source": [
    "train=pd.read_csv(\"/kaggle/input/digit-recognizer/train.csv\")\n",
    "test=pd.read_csv(\"/kaggle/input/digit-recognizer/test.csv\")\n",
    "y_train=train['label']\n",
    "x_train=train.drop(labels=['label'],axis=1)\n",
    "del train\n",
    "g=sns.countplot(y_train)"
   ]
  },
  {
   "cell_type": "code",
   "execution_count": 5,
   "metadata": {
    "execution": {
     "iopub.execute_input": "2020-08-13T00:20:35.981907Z",
     "iopub.status.busy": "2020-08-13T00:20:35.980252Z",
     "iopub.status.idle": "2020-08-13T00:20:36.021005Z",
     "shell.execute_reply": "2020-08-13T00:20:36.020342Z"
    },
    "papermill": {
     "duration": 0.065336,
     "end_time": "2020-08-13T00:20:36.021156",
     "exception": false,
     "start_time": "2020-08-13T00:20:35.955820",
     "status": "completed"
    },
    "tags": []
   },
   "outputs": [
    {
     "data": {
      "text/plain": [
       "count       784\n",
       "unique        1\n",
       "top       False\n",
       "freq        784\n",
       "dtype: object"
      ]
     },
     "execution_count": 5,
     "metadata": {},
     "output_type": "execute_result"
    }
   ],
   "source": [
    "x_train.isnull().any().describe()"
   ]
  },
  {
   "cell_type": "code",
   "execution_count": 6,
   "metadata": {
    "execution": {
     "iopub.execute_input": "2020-08-13T00:20:36.066732Z",
     "iopub.status.busy": "2020-08-13T00:20:36.065886Z",
     "iopub.status.idle": "2020-08-13T00:20:36.084818Z",
     "shell.execute_reply": "2020-08-13T00:20:36.084157Z"
    },
    "papermill": {
     "duration": 0.044909,
     "end_time": "2020-08-13T00:20:36.084960",
     "exception": false,
     "start_time": "2020-08-13T00:20:36.040051",
     "status": "completed"
    },
    "tags": []
   },
   "outputs": [
    {
     "data": {
      "text/plain": [
       "count       784\n",
       "unique        1\n",
       "top       False\n",
       "freq        784\n",
       "dtype: object"
      ]
     },
     "execution_count": 6,
     "metadata": {},
     "output_type": "execute_result"
    }
   ],
   "source": [
    "test.isnull().any().describe()"
   ]
  },
  {
   "cell_type": "code",
   "execution_count": 7,
   "metadata": {
    "execution": {
     "iopub.execute_input": "2020-08-13T00:20:36.142832Z",
     "iopub.status.busy": "2020-08-13T00:20:36.141645Z",
     "iopub.status.idle": "2020-08-13T00:20:36.292390Z",
     "shell.execute_reply": "2020-08-13T00:20:36.291686Z"
    },
    "papermill": {
     "duration": 0.186974,
     "end_time": "2020-08-13T00:20:36.292542",
     "exception": false,
     "start_time": "2020-08-13T00:20:36.105568",
     "status": "completed"
    },
    "tags": []
   },
   "outputs": [],
   "source": [
    "x_train=x_train/255.0\n",
    "test=test/255.0"
   ]
  },
  {
   "cell_type": "code",
   "execution_count": 8,
   "metadata": {
    "execution": {
     "iopub.execute_input": "2020-08-13T00:20:36.338346Z",
     "iopub.status.busy": "2020-08-13T00:20:36.337575Z",
     "iopub.status.idle": "2020-08-13T00:20:36.341580Z",
     "shell.execute_reply": "2020-08-13T00:20:36.340938Z"
    },
    "papermill": {
     "duration": 0.029633,
     "end_time": "2020-08-13T00:20:36.341723",
     "exception": false,
     "start_time": "2020-08-13T00:20:36.312090",
     "status": "completed"
    },
    "tags": []
   },
   "outputs": [],
   "source": [
    "x_train=x_train.values.reshape(-1,28,28,1)\n",
    "test=test.values.reshape(-1,28,28,1)"
   ]
  },
  {
   "cell_type": "code",
   "execution_count": 9,
   "metadata": {
    "execution": {
     "iopub.execute_input": "2020-08-13T00:20:36.387311Z",
     "iopub.status.busy": "2020-08-13T00:20:36.386466Z",
     "iopub.status.idle": "2020-08-13T00:20:36.392219Z",
     "shell.execute_reply": "2020-08-13T00:20:36.391520Z"
    },
    "papermill": {
     "duration": 0.030809,
     "end_time": "2020-08-13T00:20:36.392353",
     "exception": false,
     "start_time": "2020-08-13T00:20:36.361544",
     "status": "completed"
    },
    "tags": []
   },
   "outputs": [],
   "source": [
    "y_train=to_categorical(y_train,num_classes=10)\n"
   ]
  },
  {
   "cell_type": "code",
   "execution_count": 10,
   "metadata": {
    "execution": {
     "iopub.execute_input": "2020-08-13T00:20:36.443045Z",
     "iopub.status.busy": "2020-08-13T00:20:36.441508Z",
     "iopub.status.idle": "2020-08-13T00:20:37.090668Z",
     "shell.execute_reply": "2020-08-13T00:20:37.089946Z"
    },
    "papermill": {
     "duration": 0.678527,
     "end_time": "2020-08-13T00:20:37.090806",
     "exception": false,
     "start_time": "2020-08-13T00:20:36.412279",
     "status": "completed"
    },
    "tags": []
   },
   "outputs": [],
   "source": [
    "x_train,x_test,y_train,y_test=train_test_split(x_train,y_train,test_size=0.1,random_state=2)"
   ]
  },
  {
   "cell_type": "code",
   "execution_count": 11,
   "metadata": {
    "execution": {
     "iopub.execute_input": "2020-08-13T00:20:37.146014Z",
     "iopub.status.busy": "2020-08-13T00:20:37.140594Z",
     "iopub.status.idle": "2020-08-13T00:20:37.674048Z",
     "shell.execute_reply": "2020-08-13T00:20:37.673392Z"
    },
    "papermill": {
     "duration": 0.562578,
     "end_time": "2020-08-13T00:20:37.674193",
     "exception": false,
     "start_time": "2020-08-13T00:20:37.111615",
     "status": "completed"
    },
    "tags": []
   },
   "outputs": [],
   "source": [
    "alex=Sequential()\n",
    "alex.add(Conv2D(filters=32,kernel_size=(11,11),padding='Same',activation='relu',input_shape=(28,28,1)))\n",
    "alex.add(BatchNormalization())\n",
    "alex.add(Activation('relu'))\n",
    "alex.add(MaxPool2D(pool_size=(2,2),padding='Same'))\n",
    "\n",
    "alex.add(Conv2D(filters=48,kernel_size=(11,11),padding='Same',activation='relu'))\n",
    "alex.add(BatchNormalization())\n",
    "alex.add(Activation('relu'))\n",
    "alex.add(MaxPool2D(pool_size=(2,2),padding='Same'))\n",
    "\n",
    "alex.add(Conv2D(filters=64,kernel_size=(11,11),padding='Same',activation='relu'))\n",
    "alex.add(BatchNormalization())\n",
    "alex.add(Activation('relu'))\n",
    "\n",
    "alex.add(Conv2D(filters=64,kernel_size=(11,11),padding='Same',activation='relu'))\n",
    "alex.add(BatchNormalization())\n",
    "alex.add(Activation('relu'))\n",
    "\n",
    "alex.add(Conv2D(filters=48,kernel_size=(11,11),padding='Same',activation='relu'))\n",
    "alex.add(BatchNormalization())\n",
    "alex.add(Activation('relu'))\n",
    "alex.add(MaxPool2D(pool_size=(2,2),padding='Same'))\n",
    "\n",
    "alex.add(Flatten())\n",
    "alex.add(Dense(128))\n",
    "alex.add(BatchNormalization())\n",
    "alex.add(Activation('relu'))\n",
    "alex.add(Dropout(0.4))\n",
    "\n",
    "alex.add(Dense(128))\n",
    "alex.add(BatchNormalization())\n",
    "alex.add(Activation('relu'))\n",
    "alex.add(Dropout(0.4))\n",
    "\n",
    "alex.add(Dense(128))\n",
    "alex.add(BatchNormalization())\n",
    "alex.add(Activation('relu'))\n",
    "alex.add(Dropout(0.4))\n",
    "\n",
    "alex.add(Dense(10,activation='softmax'))"
   ]
  },
  {
   "cell_type": "code",
   "execution_count": 12,
   "metadata": {
    "execution": {
     "iopub.execute_input": "2020-08-13T00:20:37.731921Z",
     "iopub.status.busy": "2020-08-13T00:20:37.730696Z",
     "iopub.status.idle": "2020-08-13T00:20:37.738438Z",
     "shell.execute_reply": "2020-08-13T00:20:37.737632Z"
    },
    "papermill": {
     "duration": 0.043696,
     "end_time": "2020-08-13T00:20:37.738573",
     "exception": false,
     "start_time": "2020-08-13T00:20:37.694877",
     "status": "completed"
    },
    "tags": []
   },
   "outputs": [],
   "source": [
    "optimizer=RMSprop(lr=0.01,rho=0.9,epsilon=1e-08,decay=0.0005)\n",
    "alex.compile(optimizer=optimizer,loss='categorical_crossentropy',metrics=['accuracy'])"
   ]
  },
  {
   "cell_type": "code",
   "execution_count": 13,
   "metadata": {
    "execution": {
     "iopub.execute_input": "2020-08-13T00:20:37.786849Z",
     "iopub.status.busy": "2020-08-13T00:20:37.785685Z",
     "iopub.status.idle": "2020-08-13T00:20:37.789549Z",
     "shell.execute_reply": "2020-08-13T00:20:37.788790Z"
    },
    "papermill": {
     "duration": 0.030516,
     "end_time": "2020-08-13T00:20:37.789680",
     "exception": false,
     "start_time": "2020-08-13T00:20:37.759164",
     "status": "completed"
    },
    "tags": []
   },
   "outputs": [],
   "source": [
    "learning_rate_reduction=ReduceLROnPlateau(monitor='val_acc',patience=3,verbose=1,factor=0.4,min_lr=0.00001)"
   ]
  },
  {
   "cell_type": "code",
   "execution_count": 14,
   "metadata": {
    "execution": {
     "iopub.execute_input": "2020-08-13T00:20:37.836908Z",
     "iopub.status.busy": "2020-08-13T00:20:37.835894Z",
     "iopub.status.idle": "2020-08-13T00:20:37.838585Z",
     "shell.execute_reply": "2020-08-13T00:20:37.839141Z"
    },
    "papermill": {
     "duration": 0.029076,
     "end_time": "2020-08-13T00:20:37.839322",
     "exception": false,
     "start_time": "2020-08-13T00:20:37.810246",
     "status": "completed"
    },
    "tags": []
   },
   "outputs": [],
   "source": [
    "epochs=1\n",
    "batch_size=86"
   ]
  },
  {
   "cell_type": "code",
   "execution_count": 15,
   "metadata": {
    "execution": {
     "iopub.execute_input": "2020-08-13T00:20:37.889057Z",
     "iopub.status.busy": "2020-08-13T00:20:37.887865Z",
     "iopub.status.idle": "2020-08-13T00:27:18.555711Z",
     "shell.execute_reply": "2020-08-13T00:27:18.556682Z"
    },
    "papermill": {
     "duration": 400.69685,
     "end_time": "2020-08-13T00:27:18.556950",
     "exception": false,
     "start_time": "2020-08-13T00:20:37.860100",
     "status": "completed"
    },
    "tags": []
   },
   "outputs": [
    {
     "name": "stdout",
     "output_type": "stream",
     "text": [
      "440/440 - 396s - loss: 0.5967 - accuracy: 0.8032 - val_loss: 0.8931 - val_accuracy: 0.9055\n"
     ]
    }
   ],
   "source": [
    "predictor=alex.fit(x_train,y_train,batch_size=batch_size,epochs=epochs,validation_data=(x_test,y_test),verbose=2)"
   ]
  },
  {
   "cell_type": "code",
   "execution_count": 16,
   "metadata": {
    "execution": {
     "iopub.execute_input": "2020-08-13T00:27:18.607781Z",
     "iopub.status.busy": "2020-08-13T00:27:18.606921Z",
     "iopub.status.idle": "2020-08-13T00:28:22.028295Z",
     "shell.execute_reply": "2020-08-13T00:28:22.029174Z"
    },
    "papermill": {
     "duration": 63.449849,
     "end_time": "2020-08-13T00:28:22.029399",
     "exception": false,
     "start_time": "2020-08-13T00:27:18.579550",
     "status": "completed"
    },
    "tags": []
   },
   "outputs": [
    {
     "name": "stdout",
     "output_type": "stream",
     "text": [
      "[1.9498088e-17 6.4865576e-15 1.0000000e+00 1.0102673e-13 3.9810551e-21\n",
      " 3.2941796e-24 3.2390377e-18 5.5166351e-14 6.5337013e-20 3.1350037e-25]\n"
     ]
    }
   ],
   "source": [
    "y_pred=alex.predict(test)\n",
    "print(y_pred[0])"
   ]
  },
  {
   "cell_type": "code",
   "execution_count": 17,
   "metadata": {
    "execution": {
     "iopub.execute_input": "2020-08-13T00:28:22.081344Z",
     "iopub.status.busy": "2020-08-13T00:28:22.080182Z",
     "iopub.status.idle": "2020-08-13T00:28:22.088271Z",
     "shell.execute_reply": "2020-08-13T00:28:22.089054Z"
    },
    "papermill": {
     "duration": 0.036821,
     "end_time": "2020-08-13T00:28:22.089286",
     "exception": false,
     "start_time": "2020-08-13T00:28:22.052465",
     "status": "completed"
    },
    "tags": []
   },
   "outputs": [
    {
     "name": "stdout",
     "output_type": "stream",
     "text": [
      "0        2\n",
      "1        0\n",
      "2        7\n",
      "3        0\n",
      "4        3\n",
      "        ..\n",
      "27995    9\n",
      "27996    7\n",
      "27997    3\n",
      "27998    7\n",
      "27999    2\n",
      "Name: Label, Length: 28000, dtype: int64\n"
     ]
    }
   ],
   "source": [
    "y_true=np.argmax(y_pred,axis=1)\n",
    "result=pd.Series(y_true,name='Label')\n",
    "print(result)"
   ]
  },
  {
   "cell_type": "code",
   "execution_count": 18,
   "metadata": {
    "execution": {
     "iopub.execute_input": "2020-08-13T00:28:22.143648Z",
     "iopub.status.busy": "2020-08-13T00:28:22.142797Z",
     "iopub.status.idle": "2020-08-13T00:28:22.297429Z",
     "shell.execute_reply": "2020-08-13T00:28:22.296442Z"
    },
    "papermill": {
     "duration": 0.185328,
     "end_time": "2020-08-13T00:28:22.297660",
     "exception": false,
     "start_time": "2020-08-13T00:28:22.112332",
     "status": "completed"
    },
    "tags": []
   },
   "outputs": [
    {
     "name": "stdout",
     "output_type": "stream",
     "text": [
      "       ImageId  Label\n",
      "0            1      2\n",
      "1            2      0\n",
      "2            3      7\n",
      "3            4      0\n",
      "4            5      3\n",
      "...        ...    ...\n",
      "27995    27996      9\n",
      "27996    27997      7\n",
      "27997    27998      3\n",
      "27998    27999      7\n",
      "27999    28000      2\n",
      "\n",
      "[28000 rows x 2 columns]\n"
     ]
    }
   ],
   "source": [
    "sub=pd.concat([pd.Series(range(1,28001),name='ImageId'),result],axis=1)\n",
    "sub.to_csv('output.csv')\n",
    "print(sub\n",
    "     )"
   ]
  },
  {
   "cell_type": "code",
   "execution_count": null,
   "metadata": {
    "papermill": {
     "duration": 0.022518,
     "end_time": "2020-08-13T00:28:22.344107",
     "exception": false,
     "start_time": "2020-08-13T00:28:22.321589",
     "status": "completed"
    },
    "tags": []
   },
   "outputs": [],
   "source": []
  },
  {
   "cell_type": "code",
   "execution_count": null,
   "metadata": {
    "papermill": {
     "duration": 0.022621,
     "end_time": "2020-08-13T00:28:22.389653",
     "exception": false,
     "start_time": "2020-08-13T00:28:22.367032",
     "status": "completed"
    },
    "tags": []
   },
   "outputs": [],
   "source": []
  }
 ],
 "metadata": {
  "kernelspec": {
   "display_name": "Python 3",
   "language": "python",
   "name": "python3"
  },
  "language_info": {
   "codemirror_mode": {
    "name": "ipython",
    "version": 3
   },
   "file_extension": ".py",
   "mimetype": "text/x-python",
   "name": "python",
   "nbconvert_exporter": "python",
   "pygments_lexer": "ipython3",
   "version": "3.7.6"
  },
  "papermill": {
   "duration": 487.314245,
   "end_time": "2020-08-13T00:28:22.522094",
   "environment_variables": {},
   "exception": null,
   "input_path": "__notebook__.ipynb",
   "output_path": "__notebook__.ipynb",
   "parameters": {},
   "start_time": "2020-08-13T00:20:15.207849",
   "version": "2.1.0"
  }
 },
 "nbformat": 4,
 "nbformat_minor": 4
}
